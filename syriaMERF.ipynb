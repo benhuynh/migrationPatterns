{
 "cells": [
  {
   "cell_type": "code",
   "execution_count": 1,
   "metadata": {
    "collapsed": true
   },
   "outputs": [],
   "source": [
    "import pandas as pd\n",
    "import numpy as np\n",
    "from merf.merf import MERF\n"
   ]
  },
  {
   "cell_type": "code",
   "execution_count": 2,
   "metadata": {
    "collapsed": false
   },
   "outputs": [],
   "source": [
    "syria_df = pd.read_csv('/Users/ben/research/basu/migrationPatterns/data/syriaAggMerf.csv')\n"
   ]
  },
  {
   "cell_type": "code",
   "execution_count": 3,
   "metadata": {
    "collapsed": false
   },
   "outputs": [
    {
     "data": {
      "text/html": [
       "<div>\n",
       "<style scoped>\n",
       "    .dataframe tbody tr th:only-of-type {\n",
       "        vertical-align: middle;\n",
       "    }\n",
       "\n",
       "    .dataframe tbody tr th {\n",
       "        vertical-align: top;\n",
       "    }\n",
       "\n",
       "    .dataframe thead th {\n",
       "        text-align: right;\n",
       "    }\n",
       "</style>\n",
       "<table border=\"1\" class=\"dataframe\">\n",
       "  <thead>\n",
       "    <tr style=\"text-align: right;\">\n",
       "      <th></th>\n",
       "      <th>Destination</th>\n",
       "      <th>Origin</th>\n",
       "      <th>M_Size</th>\n",
       "      <th>OrigFood</th>\n",
       "      <th>OrigFuel</th>\n",
       "      <th>OrigWage</th>\n",
       "      <th>DestFood</th>\n",
       "      <th>DestFuel</th>\n",
       "      <th>DestWage</th>\n",
       "      <th>NumMonths</th>\n",
       "      <th>OriginConflict</th>\n",
       "      <th>DestConflict</th>\n",
       "      <th>OriginConflict3</th>\n",
       "      <th>DestConflict3</th>\n",
       "      <th>dist</th>\n",
       "      <th>logFlow</th>\n",
       "      <th>flowLag1</th>\n",
       "      <th>id</th>\n",
       "    </tr>\n",
       "  </thead>\n",
       "  <tbody>\n",
       "    <tr>\n",
       "      <th>0</th>\n",
       "      <td>13</td>\n",
       "      <td>9</td>\n",
       "      <td>20</td>\n",
       "      <td>-1.165277</td>\n",
       "      <td>-0.732103</td>\n",
       "      <td>-1.559418</td>\n",
       "      <td>-0.241150</td>\n",
       "      <td>0.648729</td>\n",
       "      <td>0.025987</td>\n",
       "      <td>0</td>\n",
       "      <td>-0.525685</td>\n",
       "      <td>-0.022322</td>\n",
       "      <td>-0.458570</td>\n",
       "      <td>-0.374676</td>\n",
       "      <td>2.440899</td>\n",
       "      <td>2.995732</td>\n",
       "      <td>5.298317</td>\n",
       "      <td>127</td>\n",
       "    </tr>\n",
       "    <tr>\n",
       "      <th>1</th>\n",
       "      <td>9</td>\n",
       "      <td>12</td>\n",
       "      <td>106</td>\n",
       "      <td>-0.580906</td>\n",
       "      <td>0.190068</td>\n",
       "      <td>0.312383</td>\n",
       "      <td>-1.299925</td>\n",
       "      <td>-0.719056</td>\n",
       "      <td>-1.860680</td>\n",
       "      <td>0</td>\n",
       "      <td>-0.274003</td>\n",
       "      <td>-0.525685</td>\n",
       "      <td>-0.005543</td>\n",
       "      <td>-0.458570</td>\n",
       "      <td>0.087692</td>\n",
       "      <td>4.663439</td>\n",
       "      <td>5.298317</td>\n",
       "      <td>86</td>\n",
       "    </tr>\n",
       "    <tr>\n",
       "      <th>2</th>\n",
       "      <td>13</td>\n",
       "      <td>4</td>\n",
       "      <td>45</td>\n",
       "      <td>-1.440635</td>\n",
       "      <td>-0.961718</td>\n",
       "      <td>0.245533</td>\n",
       "      <td>-0.241150</td>\n",
       "      <td>0.648729</td>\n",
       "      <td>0.025987</td>\n",
       "      <td>0</td>\n",
       "      <td>0.934068</td>\n",
       "      <td>-0.022322</td>\n",
       "      <td>1.621997</td>\n",
       "      <td>-0.374676</td>\n",
       "      <td>-0.709554</td>\n",
       "      <td>3.806662</td>\n",
       "      <td>5.298317</td>\n",
       "      <td>122</td>\n",
       "    </tr>\n",
       "    <tr>\n",
       "      <th>3</th>\n",
       "      <td>1</td>\n",
       "      <td>5</td>\n",
       "      <td>35</td>\n",
       "      <td>-1.422278</td>\n",
       "      <td>-0.861987</td>\n",
       "      <td>-1.826818</td>\n",
       "      <td>-1.310265</td>\n",
       "      <td>-0.722820</td>\n",
       "      <td>-1.301668</td>\n",
       "      <td>0</td>\n",
       "      <td>0.430705</td>\n",
       "      <td>-0.425012</td>\n",
       "      <td>-0.290782</td>\n",
       "      <td>-0.441791</td>\n",
       "      <td>-0.720821</td>\n",
       "      <td>3.555348</td>\n",
       "      <td>5.298317</td>\n",
       "      <td>4</td>\n",
       "    </tr>\n",
       "    <tr>\n",
       "      <th>4</th>\n",
       "      <td>9</td>\n",
       "      <td>6</td>\n",
       "      <td>599</td>\n",
       "      <td>-0.287191</td>\n",
       "      <td>1.526939</td>\n",
       "      <td>-1.358868</td>\n",
       "      <td>-1.299925</td>\n",
       "      <td>-0.719056</td>\n",
       "      <td>-1.860680</td>\n",
       "      <td>0</td>\n",
       "      <td>0.397147</td>\n",
       "      <td>-0.525685</td>\n",
       "      <td>-0.441791</td>\n",
       "      <td>-0.458570</td>\n",
       "      <td>-0.109924</td>\n",
       "      <td>6.395262</td>\n",
       "      <td>5.298317</td>\n",
       "      <td>82</td>\n",
       "    </tr>\n",
       "  </tbody>\n",
       "</table>\n",
       "</div>"
      ],
      "text/plain": [
       "   Destination  Origin  M_Size  OrigFood  OrigFuel  OrigWage  DestFood  \\\n",
       "0           13       9      20 -1.165277 -0.732103 -1.559418 -0.241150   \n",
       "1            9      12     106 -0.580906  0.190068  0.312383 -1.299925   \n",
       "2           13       4      45 -1.440635 -0.961718  0.245533 -0.241150   \n",
       "3            1       5      35 -1.422278 -0.861987 -1.826818 -1.310265   \n",
       "4            9       6     599 -0.287191  1.526939 -1.358868 -1.299925   \n",
       "\n",
       "   DestFuel  DestWage  NumMonths  OriginConflict  DestConflict  \\\n",
       "0  0.648729  0.025987          0       -0.525685     -0.022322   \n",
       "1 -0.719056 -1.860680          0       -0.274003     -0.525685   \n",
       "2  0.648729  0.025987          0        0.934068     -0.022322   \n",
       "3 -0.722820 -1.301668          0        0.430705     -0.425012   \n",
       "4 -0.719056 -1.860680          0        0.397147     -0.525685   \n",
       "\n",
       "   OriginConflict3  DestConflict3      dist   logFlow  flowLag1   id  \n",
       "0        -0.458570      -0.374676  2.440899  2.995732  5.298317  127  \n",
       "1        -0.005543      -0.458570  0.087692  4.663439  5.298317   86  \n",
       "2         1.621997      -0.374676 -0.709554  3.806662  5.298317  122  \n",
       "3        -0.290782      -0.441791 -0.720821  3.555348  5.298317    4  \n",
       "4        -0.441791      -0.458570 -0.109924  6.395262  5.298317   82  "
      ]
     },
     "execution_count": 3,
     "metadata": {},
     "output_type": "execute_result"
    }
   ],
   "source": [
    "syria_df.head()"
   ]
  },
  {
   "cell_type": "code",
   "execution_count": 4,
   "metadata": {
    "collapsed": false
   },
   "outputs": [],
   "source": [
    "XVars = ['Destination','Origin','OrigFood','OrigFuel','OrigWage',\n",
    "             'DestFood','DestWage','NumMonths','OriginConflict','DestConflict','OriginConflict3',\n",
    "             'DestConflict3','dist','flowLag1']\n",
    "ZVars = ['Destination','Origin']"
   ]
  },
  {
   "cell_type": "code",
   "execution_count": null,
   "metadata": {
    "collapsed": false
   },
   "outputs": [],
   "source": []
  },
  {
   "cell_type": "code",
   "execution_count": 5,
   "metadata": {
    "collapsed": false
   },
   "outputs": [
    {
     "name": "stdout",
     "output_type": "stream",
     "text": [
      "5\n",
      "6\n",
      "7\n",
      "8\n",
      "9\n",
      "10\n",
      "11\n",
      "12\n",
      "13\n",
      "14\n",
      "15\n",
      "16\n",
      "17\n",
      "18\n",
      "19\n",
      "20\n",
      "21\n",
      "22\n",
      "23\n"
     ]
    }
   ],
   "source": [
    "predList = []\n",
    "for i in range(5,24):\n",
    "    print i\n",
    "    trainLoop = syria_df.loc[(syria_df.NumMonths < i)]\n",
    "    testLoop = syria_df.loc[(syria_df.NumMonths == i)]\n",
    "    mrf = MERF(n_estimators=100, max_iterations=20)\n",
    "    mrf.fit(trainLoop[XVars], trainLoop[ZVars], trainLoop['id'], trainLoop['M_Size'])\n",
    "    preds = mrf.predict(testLoop[XVars],testLoop[ZVars],testLoop['id'])\n",
    "    predList.append(preds)\n",
    "        \n",
    "\n",
    "        "
   ]
  },
  {
   "cell_type": "code",
   "execution_count": null,
   "metadata": {
    "collapsed": true
   },
   "outputs": [],
   "source": []
  },
  {
   "cell_type": "code",
   "execution_count": 6,
   "metadata": {
    "collapsed": false
   },
   "outputs": [],
   "source": [
    "out = np.concatenate(predList).ravel()\n",
    "\n"
   ]
  },
  {
   "cell_type": "code",
   "execution_count": null,
   "metadata": {
    "collapsed": false
   },
   "outputs": [],
   "source": []
  },
  {
   "cell_type": "code",
   "execution_count": 8,
   "metadata": {
    "collapsed": false
   },
   "outputs": [],
   "source": [
    "np.savetxt(\"merfpredsnonlog.txt\",out)"
   ]
  },
  {
   "cell_type": "code",
   "execution_count": 7,
   "metadata": {
    "collapsed": false
   },
   "outputs": [
    {
     "data": {
      "text/plain": [
       "1279"
      ]
     },
     "execution_count": 7,
     "metadata": {},
     "output_type": "execute_result"
    }
   ],
   "source": [
    "len(out)"
   ]
  },
  {
   "cell_type": "code",
   "execution_count": null,
   "metadata": {
    "collapsed": true
   },
   "outputs": [],
   "source": []
  }
 ],
 "metadata": {
  "kernelspec": {
   "display_name": "Python 2",
   "language": "python",
   "name": "python2"
  },
  "language_info": {
   "codemirror_mode": {
    "name": "ipython",
    "version": 2
   },
   "file_extension": ".py",
   "mimetype": "text/x-python",
   "name": "python",
   "nbconvert_exporter": "python",
   "pygments_lexer": "ipython2",
   "version": "2.7.11"
  }
 },
 "nbformat": 4,
 "nbformat_minor": 0
}
